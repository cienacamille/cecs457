{
  "cells": [
    {
      "cell_type": "markdown",
      "metadata": {
        "id": "view-in-github",
        "colab_type": "text"
      },
      "source": [
        "<a href=\"https://colab.research.google.com/github/cienacamille/cecs457/blob/main/HW2.ipynb\" target=\"_parent\"><img src=\"https://colab.research.google.com/assets/colab-badge.svg\" alt=\"Open In Colab\"/></a>"
      ]
    },
    {
      "cell_type": "markdown",
      "id": "55e6b918-afac-43e8-b338-43f8ac64014f",
      "metadata": {
        "id": "55e6b918-afac-43e8-b338-43f8ac64014f"
      },
      "source": [
        "##  Deep Neural Networks Project"
      ]
    },
    {
      "cell_type": "markdown",
      "id": "1a8e066d-2849-4a6e-9c71-bb98d605ae07",
      "metadata": {
        "id": "1a8e066d-2849-4a6e-9c71-bb98d605ae07"
      },
      "source": [
        "In this project, you will be working with a real-world data set from the Las Vegas Metropolitan Police Department. The dataset  contains information about the reported incidents, including the time and location of the crime, type of incident, and number of persons involved."
      ]
    },
    {
      "cell_type": "markdown",
      "id": "9e87fac7-352a-4c39-b087-76254b5e2743",
      "metadata": {
        "id": "9e87fac7-352a-4c39-b087-76254b5e2743"
      },
      "source": [
        "The dataset is downloaded from the public docket at:\n",
        "https://opendata-lvmpd.hub.arcgis.com\n",
        "\n",
        "let's read the csv file and transform the data:"
      ]
    },
    {
      "cell_type": "code",
      "execution_count": 2,
      "id": "637211a4-582f-426b-a127-c3f284463f35",
      "metadata": {
        "id": "637211a4-582f-426b-a127-c3f284463f35"
      },
      "outputs": [],
      "source": [
        "import torch\n",
        "import pandas as pd\n",
        "from torch.utils.data import DataLoader, Dataset, TensorDataset\n",
        "import matplotlib.pyplot as plt\n",
        "import seaborn as sns\n",
        "import numpy as np\n",
        "from sklearn.model_selection import train_test_split\n",
        "\n",
        "import tensorflow as tf\n",
        "from tensorflow.keras.models import Sequential\n",
        "from tensorflow.keras.layers import Dense\n",
        "from tensorflow.keras.losses import MeanSquaredError\n"
      ]
    },
    {
      "cell_type": "code",
      "execution_count": 3,
      "id": "bcf40b02-80b6-4abc-a662-f7ed50a65181",
      "metadata": {
        "id": "bcf40b02-80b6-4abc-a662-f7ed50a65181"
      },
      "outputs": [],
      "source": [
        "orig_df = pd.read_csv('../content/LVMPD-Stats.csv', parse_dates=['ReportedOn'])"
      ]
    },
    {
      "cell_type": "code",
      "execution_count": 4,
      "id": "e1ca1d15-3955-4971-a3c4-c1a73b62edda",
      "metadata": {
        "id": "e1ca1d15-3955-4971-a3c4-c1a73b62edda"
      },
      "outputs": [],
      "source": [
        "df = pd.read_csv('../content/LVMPD-Stats.csv', parse_dates=['ReportedOn'],\n",
        "                 usecols = ['X', 'Y', 'ReportedOn',\n",
        "                            'Area_Command','NIBRSOffenseCode',\n",
        "                            'VictimCount' ] )\n",
        "\n",
        "df['DayOfWeek'] = df['ReportedOn'].dt.day_name()\n",
        "df['Time' ]     = df['ReportedOn'].dt.hour\n",
        "df.drop(columns = 'ReportedOn', inplace=True)"
      ]
    },
    {
      "cell_type": "code",
      "execution_count": 5,
      "id": "3ddc413d-ba3f-4204-bc18-7fdd4de8d221",
      "metadata": {
        "id": "3ddc413d-ba3f-4204-bc18-7fdd4de8d221"
      },
      "outputs": [],
      "source": [
        "\n",
        "df['X'] = df['X']\n",
        "df['Y'] = df['Y']\n",
        "df['Time'] = pd.factorize(df['Time'])[0]\n",
        "df['DayOfWeek'] = pd.factorize(df['DayOfWeek'])[0]\n",
        "df.Area_Command = pd.factorize(df['Area_Command'])[0]\n",
        "df.VictimCount = pd.factorize(df['VictimCount'])[0]\n",
        "df.NIBRSOffenseCode = pd.factorize(df['NIBRSOffenseCode'])[0]\n",
        "df.dropna(inplace=True)"
      ]
    },
    {
      "cell_type": "code",
      "execution_count": 6,
      "id": "a9c6162f-9686-4195-818d-950a6368c686",
      "metadata": {
        "id": "a9c6162f-9686-4195-818d-950a6368c686"
      },
      "outputs": [],
      "source": [
        "df= df[['X', 'Y', 'Area_Command', 'NIBRSOffenseCode',\n",
        "       'DayOfWeek', 'Time','VictimCount']]"
      ]
    },
    {
      "cell_type": "code",
      "execution_count": 7,
      "id": "a90bc78a-6d1b-4fe4-a1b0-8333aec1c851",
      "metadata": {
        "id": "a90bc78a-6d1b-4fe4-a1b0-8333aec1c851",
        "outputId": "120e4ce4-7a97-4cb5-8f6d-2cd26ed5ea95",
        "colab": {
          "base_uri": "https://localhost:8080/"
        }
      },
      "outputs": [
        {
          "output_type": "execute_result",
          "data": {
            "text/plain": [
              "(275, 7)"
            ]
          },
          "metadata": {},
          "execution_count": 7
        }
      ],
      "source": [
        "df.values.shape"
      ]
    },
    {
      "cell_type": "markdown",
      "id": "651605b1-8d2c-4d3e-a09e-9aef6e550fc6",
      "metadata": {
        "id": "651605b1-8d2c-4d3e-a09e-9aef6e550fc6"
      },
      "source": [
        "# Goal\n",
        "The goal is to build a predictive model that is trained on the following data:\n",
        "* latitude and longitude (location)\n",
        "* Hour of the day\n",
        "* Day of the week\n",
        "* Area-of-command code: The police designation of the bureau of the operation.\n",
        "* Classification code for the crime committed\n",
        "  \n",
        "The predicted variable is the number of persons involved in the accident.\n"
      ]
    },
    {
      "cell_type": "markdown",
      "id": "0e54f0b8-83f9-4db9-88f9-f5a595342069",
      "metadata": {
        "id": "0e54f0b8-83f9-4db9-88f9-f5a595342069"
      },
      "source": [
        "## Task 1\n",
        "* print a few rows of the values in the dataframe ``df`` and explain what each column of data means.\n",
        "* identify the input and target variables\n",
        "* what is the range of values in each column? Do you need to scale, shift or normalize your data?\n"
      ]
    },
    {
      "cell_type": "code",
      "source": [
        "df.head()"
      ],
      "metadata": {
        "id": "okdeerjVXJsV",
        "outputId": "c0dbbcd9-11a1-4b90-a0d3-31c94821b69e",
        "colab": {
          "base_uri": "https://localhost:8080/",
          "height": 206
        }
      },
      "id": "okdeerjVXJsV",
      "execution_count": 8,
      "outputs": [
        {
          "output_type": "execute_result",
          "data": {
            "text/plain": [
              "            X          Y  Area_Command  NIBRSOffenseCode  DayOfWeek  Time  \\\n",
              "0 -115.087518  36.216702             0                 0          0     0   \n",
              "1 -115.240172  36.189693             1                 1          1     1   \n",
              "2 -115.143088  36.181329             2                 1          2     0   \n",
              "3 -115.225014  36.117633             3                 1          1     2   \n",
              "4 -115.176708  36.095967             4                 1          1     3   \n",
              "\n",
              "   VictimCount  \n",
              "0            0  \n",
              "1            0  \n",
              "2            1  \n",
              "3            2  \n",
              "4            0  "
            ],
            "text/html": [
              "\n",
              "  <div id=\"df-36805674-2bb6-48b0-828b-9205f7dbeb8d\" class=\"colab-df-container\">\n",
              "    <div>\n",
              "<style scoped>\n",
              "    .dataframe tbody tr th:only-of-type {\n",
              "        vertical-align: middle;\n",
              "    }\n",
              "\n",
              "    .dataframe tbody tr th {\n",
              "        vertical-align: top;\n",
              "    }\n",
              "\n",
              "    .dataframe thead th {\n",
              "        text-align: right;\n",
              "    }\n",
              "</style>\n",
              "<table border=\"1\" class=\"dataframe\">\n",
              "  <thead>\n",
              "    <tr style=\"text-align: right;\">\n",
              "      <th></th>\n",
              "      <th>X</th>\n",
              "      <th>Y</th>\n",
              "      <th>Area_Command</th>\n",
              "      <th>NIBRSOffenseCode</th>\n",
              "      <th>DayOfWeek</th>\n",
              "      <th>Time</th>\n",
              "      <th>VictimCount</th>\n",
              "    </tr>\n",
              "  </thead>\n",
              "  <tbody>\n",
              "    <tr>\n",
              "      <th>0</th>\n",
              "      <td>-115.087518</td>\n",
              "      <td>36.216702</td>\n",
              "      <td>0</td>\n",
              "      <td>0</td>\n",
              "      <td>0</td>\n",
              "      <td>0</td>\n",
              "      <td>0</td>\n",
              "    </tr>\n",
              "    <tr>\n",
              "      <th>1</th>\n",
              "      <td>-115.240172</td>\n",
              "      <td>36.189693</td>\n",
              "      <td>1</td>\n",
              "      <td>1</td>\n",
              "      <td>1</td>\n",
              "      <td>1</td>\n",
              "      <td>0</td>\n",
              "    </tr>\n",
              "    <tr>\n",
              "      <th>2</th>\n",
              "      <td>-115.143088</td>\n",
              "      <td>36.181329</td>\n",
              "      <td>2</td>\n",
              "      <td>1</td>\n",
              "      <td>2</td>\n",
              "      <td>0</td>\n",
              "      <td>1</td>\n",
              "    </tr>\n",
              "    <tr>\n",
              "      <th>3</th>\n",
              "      <td>-115.225014</td>\n",
              "      <td>36.117633</td>\n",
              "      <td>3</td>\n",
              "      <td>1</td>\n",
              "      <td>1</td>\n",
              "      <td>2</td>\n",
              "      <td>2</td>\n",
              "    </tr>\n",
              "    <tr>\n",
              "      <th>4</th>\n",
              "      <td>-115.176708</td>\n",
              "      <td>36.095967</td>\n",
              "      <td>4</td>\n",
              "      <td>1</td>\n",
              "      <td>1</td>\n",
              "      <td>3</td>\n",
              "      <td>0</td>\n",
              "    </tr>\n",
              "  </tbody>\n",
              "</table>\n",
              "</div>\n",
              "    <div class=\"colab-df-buttons\">\n",
              "\n",
              "  <div class=\"colab-df-container\">\n",
              "    <button class=\"colab-df-convert\" onclick=\"convertToInteractive('df-36805674-2bb6-48b0-828b-9205f7dbeb8d')\"\n",
              "            title=\"Convert this dataframe to an interactive table.\"\n",
              "            style=\"display:none;\">\n",
              "\n",
              "  <svg xmlns=\"http://www.w3.org/2000/svg\" height=\"24px\" viewBox=\"0 -960 960 960\">\n",
              "    <path d=\"M120-120v-720h720v720H120Zm60-500h600v-160H180v160Zm220 220h160v-160H400v160Zm0 220h160v-160H400v160ZM180-400h160v-160H180v160Zm440 0h160v-160H620v160ZM180-180h160v-160H180v160Zm440 0h160v-160H620v160Z\"/>\n",
              "  </svg>\n",
              "    </button>\n",
              "\n",
              "  <style>\n",
              "    .colab-df-container {\n",
              "      display:flex;\n",
              "      gap: 12px;\n",
              "    }\n",
              "\n",
              "    .colab-df-convert {\n",
              "      background-color: #E8F0FE;\n",
              "      border: none;\n",
              "      border-radius: 50%;\n",
              "      cursor: pointer;\n",
              "      display: none;\n",
              "      fill: #1967D2;\n",
              "      height: 32px;\n",
              "      padding: 0 0 0 0;\n",
              "      width: 32px;\n",
              "    }\n",
              "\n",
              "    .colab-df-convert:hover {\n",
              "      background-color: #E2EBFA;\n",
              "      box-shadow: 0px 1px 2px rgba(60, 64, 67, 0.3), 0px 1px 3px 1px rgba(60, 64, 67, 0.15);\n",
              "      fill: #174EA6;\n",
              "    }\n",
              "\n",
              "    .colab-df-buttons div {\n",
              "      margin-bottom: 4px;\n",
              "    }\n",
              "\n",
              "    [theme=dark] .colab-df-convert {\n",
              "      background-color: #3B4455;\n",
              "      fill: #D2E3FC;\n",
              "    }\n",
              "\n",
              "    [theme=dark] .colab-df-convert:hover {\n",
              "      background-color: #434B5C;\n",
              "      box-shadow: 0px 1px 3px 1px rgba(0, 0, 0, 0.15);\n",
              "      filter: drop-shadow(0px 1px 2px rgba(0, 0, 0, 0.3));\n",
              "      fill: #FFFFFF;\n",
              "    }\n",
              "  </style>\n",
              "\n",
              "    <script>\n",
              "      const buttonEl =\n",
              "        document.querySelector('#df-36805674-2bb6-48b0-828b-9205f7dbeb8d button.colab-df-convert');\n",
              "      buttonEl.style.display =\n",
              "        google.colab.kernel.accessAllowed ? 'block' : 'none';\n",
              "\n",
              "      async function convertToInteractive(key) {\n",
              "        const element = document.querySelector('#df-36805674-2bb6-48b0-828b-9205f7dbeb8d');\n",
              "        const dataTable =\n",
              "          await google.colab.kernel.invokeFunction('convertToInteractive',\n",
              "                                                    [key], {});\n",
              "        if (!dataTable) return;\n",
              "\n",
              "        const docLinkHtml = 'Like what you see? Visit the ' +\n",
              "          '<a target=\"_blank\" href=https://colab.research.google.com/notebooks/data_table.ipynb>data table notebook</a>'\n",
              "          + ' to learn more about interactive tables.';\n",
              "        element.innerHTML = '';\n",
              "        dataTable['output_type'] = 'display_data';\n",
              "        await google.colab.output.renderOutput(dataTable, element);\n",
              "        const docLink = document.createElement('div');\n",
              "        docLink.innerHTML = docLinkHtml;\n",
              "        element.appendChild(docLink);\n",
              "      }\n",
              "    </script>\n",
              "  </div>\n",
              "\n",
              "\n",
              "<div id=\"df-9a9e9990-636e-43bc-9e58-125fcdd6bfc0\">\n",
              "  <button class=\"colab-df-quickchart\" onclick=\"quickchart('df-9a9e9990-636e-43bc-9e58-125fcdd6bfc0')\"\n",
              "            title=\"Suggest charts.\"\n",
              "            style=\"display:none;\">\n",
              "\n",
              "<svg xmlns=\"http://www.w3.org/2000/svg\" height=\"24px\"viewBox=\"0 0 24 24\"\n",
              "     width=\"24px\">\n",
              "    <g>\n",
              "        <path d=\"M19 3H5c-1.1 0-2 .9-2 2v14c0 1.1.9 2 2 2h14c1.1 0 2-.9 2-2V5c0-1.1-.9-2-2-2zM9 17H7v-7h2v7zm4 0h-2V7h2v10zm4 0h-2v-4h2v4z\"/>\n",
              "    </g>\n",
              "</svg>\n",
              "  </button>\n",
              "\n",
              "<style>\n",
              "  .colab-df-quickchart {\n",
              "      --bg-color: #E8F0FE;\n",
              "      --fill-color: #1967D2;\n",
              "      --hover-bg-color: #E2EBFA;\n",
              "      --hover-fill-color: #174EA6;\n",
              "      --disabled-fill-color: #AAA;\n",
              "      --disabled-bg-color: #DDD;\n",
              "  }\n",
              "\n",
              "  [theme=dark] .colab-df-quickchart {\n",
              "      --bg-color: #3B4455;\n",
              "      --fill-color: #D2E3FC;\n",
              "      --hover-bg-color: #434B5C;\n",
              "      --hover-fill-color: #FFFFFF;\n",
              "      --disabled-bg-color: #3B4455;\n",
              "      --disabled-fill-color: #666;\n",
              "  }\n",
              "\n",
              "  .colab-df-quickchart {\n",
              "    background-color: var(--bg-color);\n",
              "    border: none;\n",
              "    border-radius: 50%;\n",
              "    cursor: pointer;\n",
              "    display: none;\n",
              "    fill: var(--fill-color);\n",
              "    height: 32px;\n",
              "    padding: 0;\n",
              "    width: 32px;\n",
              "  }\n",
              "\n",
              "  .colab-df-quickchart:hover {\n",
              "    background-color: var(--hover-bg-color);\n",
              "    box-shadow: 0 1px 2px rgba(60, 64, 67, 0.3), 0 1px 3px 1px rgba(60, 64, 67, 0.15);\n",
              "    fill: var(--button-hover-fill-color);\n",
              "  }\n",
              "\n",
              "  .colab-df-quickchart-complete:disabled,\n",
              "  .colab-df-quickchart-complete:disabled:hover {\n",
              "    background-color: var(--disabled-bg-color);\n",
              "    fill: var(--disabled-fill-color);\n",
              "    box-shadow: none;\n",
              "  }\n",
              "\n",
              "  .colab-df-spinner {\n",
              "    border: 2px solid var(--fill-color);\n",
              "    border-color: transparent;\n",
              "    border-bottom-color: var(--fill-color);\n",
              "    animation:\n",
              "      spin 1s steps(1) infinite;\n",
              "  }\n",
              "\n",
              "  @keyframes spin {\n",
              "    0% {\n",
              "      border-color: transparent;\n",
              "      border-bottom-color: var(--fill-color);\n",
              "      border-left-color: var(--fill-color);\n",
              "    }\n",
              "    20% {\n",
              "      border-color: transparent;\n",
              "      border-left-color: var(--fill-color);\n",
              "      border-top-color: var(--fill-color);\n",
              "    }\n",
              "    30% {\n",
              "      border-color: transparent;\n",
              "      border-left-color: var(--fill-color);\n",
              "      border-top-color: var(--fill-color);\n",
              "      border-right-color: var(--fill-color);\n",
              "    }\n",
              "    40% {\n",
              "      border-color: transparent;\n",
              "      border-right-color: var(--fill-color);\n",
              "      border-top-color: var(--fill-color);\n",
              "    }\n",
              "    60% {\n",
              "      border-color: transparent;\n",
              "      border-right-color: var(--fill-color);\n",
              "    }\n",
              "    80% {\n",
              "      border-color: transparent;\n",
              "      border-right-color: var(--fill-color);\n",
              "      border-bottom-color: var(--fill-color);\n",
              "    }\n",
              "    90% {\n",
              "      border-color: transparent;\n",
              "      border-bottom-color: var(--fill-color);\n",
              "    }\n",
              "  }\n",
              "</style>\n",
              "\n",
              "  <script>\n",
              "    async function quickchart(key) {\n",
              "      const quickchartButtonEl =\n",
              "        document.querySelector('#' + key + ' button');\n",
              "      quickchartButtonEl.disabled = true;  // To prevent multiple clicks.\n",
              "      quickchartButtonEl.classList.add('colab-df-spinner');\n",
              "      try {\n",
              "        const charts = await google.colab.kernel.invokeFunction(\n",
              "            'suggestCharts', [key], {});\n",
              "      } catch (error) {\n",
              "        console.error('Error during call to suggestCharts:', error);\n",
              "      }\n",
              "      quickchartButtonEl.classList.remove('colab-df-spinner');\n",
              "      quickchartButtonEl.classList.add('colab-df-quickchart-complete');\n",
              "    }\n",
              "    (() => {\n",
              "      let quickchartButtonEl =\n",
              "        document.querySelector('#df-9a9e9990-636e-43bc-9e58-125fcdd6bfc0 button');\n",
              "      quickchartButtonEl.style.display =\n",
              "        google.colab.kernel.accessAllowed ? 'block' : 'none';\n",
              "    })();\n",
              "  </script>\n",
              "</div>\n",
              "    </div>\n",
              "  </div>\n"
            ]
          },
          "metadata": {},
          "execution_count": 8
        }
      ]
    },
    {
      "cell_type": "markdown",
      "source": [
        "target variable: VictimCount\n",
        "\n",
        "input variable: all other variables\n",
        "* X\n",
        "  * longitude\n",
        "  * range: [-115, -116]\n",
        "* Y\n",
        "  * latitude\n",
        "  * range: [36, 37]\n",
        "* Area_Command\n",
        "  * acronym of the area command dealing with the crime\n",
        "  * range: [0, number of area commands in Las Vegas]\n",
        "* NIBRSOffenseCode\n",
        "  * code pertaining to the type of offense that the crime falls under\n",
        "  * range: [0, number of NIBRS Offense Codes]\n",
        "* DayOfWeek\n",
        "  * day of the week that the crime was reported\n",
        "  * range: [0, 6]\n",
        "* Time\n",
        "  * time that the crime was reported\n",
        "  * range: [0, 23]\n",
        "* VictimCount\n",
        "  * number of victims involved in the crime\n",
        "  * range: [0, population of Las Vegas]"
      ],
      "metadata": {
        "id": "H4TSPjt2YcwV"
      },
      "id": "H4TSPjt2YcwV"
    },
    {
      "cell_type": "markdown",
      "id": "5549ecc9-3c0b-4efa-9a1f-340a25a1e4be",
      "metadata": {
        "id": "5549ecc9-3c0b-4efa-9a1f-340a25a1e4be"
      },
      "source": [
        "## Task 2\n",
        "\n",
        "* Create two `DataLoader` objects for training and testing based on the input and output variables. Pick a reasonable batch size and verify the shape of data by iterating over the one dataset and printing the shape of the batched data."
      ]
    },
    {
      "cell_type": "code",
      "execution_count": 9,
      "id": "00fe4287-934b-4799-9e43-c3571acfbab4",
      "metadata": {
        "id": "00fe4287-934b-4799-9e43-c3571acfbab4",
        "colab": {
          "base_uri": "https://localhost:8080/"
        },
        "outputId": "6e65e5ce-bee0-43b0-db62-beecd093ed3c"
      },
      "outputs": [
        {
          "output_type": "stream",
          "name": "stdout",
          "text": [
            "torch.Size([192, 6])\n",
            "torch.Size([83, 6])\n"
          ]
        }
      ],
      "source": [
        "my_x = np.array(df.iloc[:, 0:6]) # a list of numpy arrays\n",
        "my_y = np.array(df.iloc[:, 6:]) # another list of numpy arrays (targets)\n",
        "\n",
        "tensor_x = torch.Tensor(my_x) # transform to torch tensor\n",
        "tensor_y = torch.Tensor(my_y)\n",
        "\n",
        "X_train, X_test, y_train, y_test = train_test_split(tensor_x, tensor_y, train_size=0.7)\n",
        "\n",
        "train_dataset = TensorDataset(X_train,y_train) # create your dataset\n",
        "train_dataloader = DataLoader(train_dataset, batch_size= 16) # create your dataloader\n",
        "\n",
        "test_dataset = TensorDataset(X_test,y_test) # create your dataset\n",
        "test_dataloader = DataLoader(test_dataset, batch_size= 10) # create your dataloader\n",
        "\n",
        "print(X_train.shape)\n",
        "print(X_test.shape)\n"
      ]
    },
    {
      "cell_type": "markdown",
      "id": "1fb6f08c-5e70-4b14-b62c-4686d9f7aace",
      "metadata": {
        "id": "1fb6f08c-5e70-4b14-b62c-4686d9f7aace"
      },
      "source": [
        "## Task 3\n",
        "In this task you will try to predict number of crime victims as a **real number**. Therefore the machine learning problem is a **regression** problem.\n",
        "\n",
        "* Define the proper loss function for this task\n",
        "* what should the size of the predicted output be?\n",
        "* explain your choice of architecture, including how many layers you will be using\n",
        "* define an optimizer for training this model, choose a proper learning rate\n",
        "* write a training loop that obtains a batch out of the  training data and calculates the forward and backward passes over the neural network. Call the optimizer to update the weights of the neural network.\n",
        "* write a for loop that continues the training over a number of epochs. At the end of each epoch, calculate the ``MSE`` error on the test data and print it.\n",
        "* is your model training well? Adjust the learning rate, hidden size of the network, and try different activation functions and number of layers to achieve the best accuracy and report it."
      ]
    },
    {
      "cell_type": "code",
      "source": [
        "layer_1 = Dense(units=6, activation='relu')\n",
        "a1 = layer_1(my_x)\n",
        "\n",
        "layer_2 = Dense(units=1, activation='relu')\n",
        "a2 = layer_2(a1)\n",
        "\n",
        "model = Sequential([layer_1, layer_2])\n",
        "\n",
        "model.compile(optimizer='sgd',\n",
        "              loss = 'mean_squared_error')\n",
        "\n",
        "model.fit(my_x, my_y, epochs=100)\n",
        "\n"
      ],
      "metadata": {
        "colab": {
          "base_uri": "https://localhost:8080/"
        },
        "id": "MbPc_TUSXrT5",
        "outputId": "560d1e78-2147-4706-dcc4-ff29318d6341"
      },
      "id": "MbPc_TUSXrT5",
      "execution_count": 10,
      "outputs": [
        {
          "output_type": "stream",
          "name": "stdout",
          "text": [
            "Epoch 1/100\n",
            "9/9 [==============================] - 0s 3ms/step - loss: 1.4618\n",
            "Epoch 2/100\n",
            "9/9 [==============================] - 0s 37ms/step - loss: 1.4618\n",
            "Epoch 3/100\n",
            "9/9 [==============================] - 0s 2ms/step - loss: 1.4618\n",
            "Epoch 4/100\n",
            "9/9 [==============================] - 0s 2ms/step - loss: 1.4618\n",
            "Epoch 5/100\n",
            "9/9 [==============================] - 0s 4ms/step - loss: 1.4618\n",
            "Epoch 6/100\n",
            "9/9 [==============================] - 0s 2ms/step - loss: 1.4618\n",
            "Epoch 7/100\n",
            "9/9 [==============================] - 0s 2ms/step - loss: 1.4618\n",
            "Epoch 8/100\n",
            "9/9 [==============================] - 0s 3ms/step - loss: 1.4618\n",
            "Epoch 9/100\n",
            "9/9 [==============================] - 0s 2ms/step - loss: 1.4618\n",
            "Epoch 10/100\n",
            "9/9 [==============================] - 0s 2ms/step - loss: 1.4618\n",
            "Epoch 11/100\n",
            "9/9 [==============================] - 0s 2ms/step - loss: 1.4618\n",
            "Epoch 12/100\n",
            "9/9 [==============================] - 0s 3ms/step - loss: 1.4618\n",
            "Epoch 13/100\n",
            "9/9 [==============================] - 0s 2ms/step - loss: 1.4618\n",
            "Epoch 14/100\n",
            "9/9 [==============================] - 0s 2ms/step - loss: 1.4618\n",
            "Epoch 15/100\n",
            "9/9 [==============================] - 0s 2ms/step - loss: 1.4618\n",
            "Epoch 16/100\n",
            "9/9 [==============================] - 0s 2ms/step - loss: 1.4618\n",
            "Epoch 17/100\n",
            "9/9 [==============================] - 0s 2ms/step - loss: 1.4618\n",
            "Epoch 18/100\n",
            "9/9 [==============================] - 0s 3ms/step - loss: 1.4618\n",
            "Epoch 19/100\n",
            "9/9 [==============================] - 0s 3ms/step - loss: 1.4618\n",
            "Epoch 20/100\n",
            "9/9 [==============================] - 0s 2ms/step - loss: 1.4618\n",
            "Epoch 21/100\n",
            "9/9 [==============================] - 0s 2ms/step - loss: 1.4618\n",
            "Epoch 22/100\n",
            "9/9 [==============================] - 0s 3ms/step - loss: 1.4618\n",
            "Epoch 23/100\n",
            "9/9 [==============================] - 0s 3ms/step - loss: 1.4618\n",
            "Epoch 24/100\n",
            "9/9 [==============================] - 0s 3ms/step - loss: 1.4618\n",
            "Epoch 25/100\n",
            "9/9 [==============================] - 0s 2ms/step - loss: 1.4618\n",
            "Epoch 26/100\n",
            "9/9 [==============================] - 0s 2ms/step - loss: 1.4618\n",
            "Epoch 27/100\n",
            "9/9 [==============================] - 0s 3ms/step - loss: 1.4618\n",
            "Epoch 28/100\n",
            "9/9 [==============================] - 0s 2ms/step - loss: 1.4618\n",
            "Epoch 29/100\n",
            "9/9 [==============================] - 0s 2ms/step - loss: 1.4618\n",
            "Epoch 30/100\n",
            "9/9 [==============================] - 0s 2ms/step - loss: 1.4618\n",
            "Epoch 31/100\n",
            "9/9 [==============================] - 0s 2ms/step - loss: 1.4618\n",
            "Epoch 32/100\n",
            "9/9 [==============================] - 0s 3ms/step - loss: 1.4618\n",
            "Epoch 33/100\n",
            "9/9 [==============================] - 0s 3ms/step - loss: 1.4618\n",
            "Epoch 34/100\n",
            "9/9 [==============================] - 0s 3ms/step - loss: 1.4618\n",
            "Epoch 35/100\n",
            "9/9 [==============================] - 0s 3ms/step - loss: 1.4618\n",
            "Epoch 36/100\n",
            "9/9 [==============================] - 0s 3ms/step - loss: 1.4618\n",
            "Epoch 37/100\n",
            "9/9 [==============================] - 0s 3ms/step - loss: 1.4618\n",
            "Epoch 38/100\n",
            "9/9 [==============================] - 0s 3ms/step - loss: 1.4618\n",
            "Epoch 39/100\n",
            "9/9 [==============================] - 0s 3ms/step - loss: 1.4618\n",
            "Epoch 40/100\n",
            "9/9 [==============================] - 0s 2ms/step - loss: 1.4618\n",
            "Epoch 41/100\n",
            "9/9 [==============================] - 0s 3ms/step - loss: 1.4618\n",
            "Epoch 42/100\n",
            "9/9 [==============================] - 0s 3ms/step - loss: 1.4618\n",
            "Epoch 43/100\n",
            "9/9 [==============================] - 0s 3ms/step - loss: 1.4618\n",
            "Epoch 44/100\n",
            "9/9 [==============================] - 0s 3ms/step - loss: 1.4618\n",
            "Epoch 45/100\n",
            "9/9 [==============================] - 0s 3ms/step - loss: 1.4618\n",
            "Epoch 46/100\n",
            "9/9 [==============================] - 0s 3ms/step - loss: 1.4618\n",
            "Epoch 47/100\n",
            "9/9 [==============================] - 0s 3ms/step - loss: 1.4618\n",
            "Epoch 48/100\n",
            "9/9 [==============================] - 0s 2ms/step - loss: 1.4618\n",
            "Epoch 49/100\n",
            "9/9 [==============================] - 0s 2ms/step - loss: 1.4618\n",
            "Epoch 50/100\n",
            "9/9 [==============================] - 0s 3ms/step - loss: 1.4618\n",
            "Epoch 51/100\n",
            "9/9 [==============================] - 0s 2ms/step - loss: 1.4618\n",
            "Epoch 52/100\n",
            "9/9 [==============================] - 0s 2ms/step - loss: 1.4618\n",
            "Epoch 53/100\n",
            "9/9 [==============================] - 0s 3ms/step - loss: 1.4618\n",
            "Epoch 54/100\n",
            "9/9 [==============================] - 0s 2ms/step - loss: 1.4618\n",
            "Epoch 55/100\n",
            "9/9 [==============================] - 0s 3ms/step - loss: 1.4618\n",
            "Epoch 56/100\n",
            "9/9 [==============================] - 0s 2ms/step - loss: 1.4618\n",
            "Epoch 57/100\n",
            "9/9 [==============================] - 0s 3ms/step - loss: 1.4618\n",
            "Epoch 58/100\n",
            "9/9 [==============================] - 0s 2ms/step - loss: 1.4618\n",
            "Epoch 59/100\n",
            "9/9 [==============================] - 0s 3ms/step - loss: 1.4618\n",
            "Epoch 60/100\n",
            "9/9 [==============================] - 0s 3ms/step - loss: 1.4618\n",
            "Epoch 61/100\n",
            "9/9 [==============================] - 0s 3ms/step - loss: 1.4618\n",
            "Epoch 62/100\n",
            "9/9 [==============================] - 0s 3ms/step - loss: 1.4618\n",
            "Epoch 63/100\n",
            "9/9 [==============================] - 0s 3ms/step - loss: 1.4618\n",
            "Epoch 64/100\n",
            "9/9 [==============================] - 0s 3ms/step - loss: 1.4618\n",
            "Epoch 65/100\n",
            "9/9 [==============================] - 0s 3ms/step - loss: 1.4618\n",
            "Epoch 66/100\n",
            "9/9 [==============================] - 0s 3ms/step - loss: 1.4618\n",
            "Epoch 67/100\n",
            "9/9 [==============================] - 0s 3ms/step - loss: 1.4618\n",
            "Epoch 68/100\n",
            "9/9 [==============================] - 0s 3ms/step - loss: 1.4618\n",
            "Epoch 69/100\n",
            "9/9 [==============================] - 0s 3ms/step - loss: 1.4618\n",
            "Epoch 70/100\n",
            "9/9 [==============================] - 0s 3ms/step - loss: 1.4618\n",
            "Epoch 71/100\n",
            "9/9 [==============================] - 0s 3ms/step - loss: 1.4618\n",
            "Epoch 72/100\n",
            "9/9 [==============================] - 0s 3ms/step - loss: 1.4618\n",
            "Epoch 73/100\n",
            "9/9 [==============================] - 0s 3ms/step - loss: 1.4618\n",
            "Epoch 74/100\n",
            "9/9 [==============================] - 0s 3ms/step - loss: 1.4618\n",
            "Epoch 75/100\n",
            "9/9 [==============================] - 0s 2ms/step - loss: 1.4618\n",
            "Epoch 76/100\n",
            "9/9 [==============================] - 0s 2ms/step - loss: 1.4618\n",
            "Epoch 77/100\n",
            "9/9 [==============================] - 0s 3ms/step - loss: 1.4618\n",
            "Epoch 78/100\n",
            "9/9 [==============================] - 0s 4ms/step - loss: 1.4618\n",
            "Epoch 79/100\n",
            "9/9 [==============================] - 0s 3ms/step - loss: 1.4618\n",
            "Epoch 80/100\n",
            "9/9 [==============================] - 0s 2ms/step - loss: 1.4618\n",
            "Epoch 81/100\n",
            "9/9 [==============================] - 0s 3ms/step - loss: 1.4618\n",
            "Epoch 82/100\n",
            "9/9 [==============================] - 0s 4ms/step - loss: 1.4618\n",
            "Epoch 83/100\n",
            "9/9 [==============================] - 0s 3ms/step - loss: 1.4618\n",
            "Epoch 84/100\n",
            "9/9 [==============================] - 0s 3ms/step - loss: 1.4618\n",
            "Epoch 85/100\n",
            "9/9 [==============================] - 0s 3ms/step - loss: 1.4618\n",
            "Epoch 86/100\n",
            "9/9 [==============================] - 0s 2ms/step - loss: 1.4618\n",
            "Epoch 87/100\n",
            "9/9 [==============================] - 0s 2ms/step - loss: 1.4618\n",
            "Epoch 88/100\n",
            "9/9 [==============================] - 0s 3ms/step - loss: 1.4618\n",
            "Epoch 89/100\n",
            "9/9 [==============================] - 0s 3ms/step - loss: 1.4618\n",
            "Epoch 90/100\n",
            "9/9 [==============================] - 0s 3ms/step - loss: 1.4618\n",
            "Epoch 91/100\n",
            "9/9 [==============================] - 0s 2ms/step - loss: 1.4618\n",
            "Epoch 92/100\n",
            "9/9 [==============================] - 0s 2ms/step - loss: 1.4618\n",
            "Epoch 93/100\n",
            "9/9 [==============================] - 0s 2ms/step - loss: 1.4618\n",
            "Epoch 94/100\n",
            "9/9 [==============================] - 0s 3ms/step - loss: 1.4618\n",
            "Epoch 95/100\n",
            "9/9 [==============================] - 0s 3ms/step - loss: 1.4618\n",
            "Epoch 96/100\n",
            "9/9 [==============================] - 0s 2ms/step - loss: 1.4618\n",
            "Epoch 97/100\n",
            "9/9 [==============================] - 0s 3ms/step - loss: 1.4618\n",
            "Epoch 98/100\n",
            "9/9 [==============================] - 0s 3ms/step - loss: 1.4618\n",
            "Epoch 99/100\n",
            "9/9 [==============================] - 0s 3ms/step - loss: 1.4618\n",
            "Epoch 100/100\n",
            "9/9 [==============================] - 0s 3ms/step - loss: 1.4618\n"
          ]
        },
        {
          "output_type": "execute_result",
          "data": {
            "text/plain": [
              "<keras.src.callbacks.History at 0x7c288be4b520>"
            ]
          },
          "metadata": {},
          "execution_count": 10
        }
      ]
    },
    {
      "cell_type": "code",
      "source": [
        "y_mse = model.predict([[-115.303952, 36.019455, 3, 1, 2, 1]])\n",
        "y_mse"
      ],
      "metadata": {
        "colab": {
          "base_uri": "https://localhost:8080/"
        },
        "id": "a_A3vxv0NIlb",
        "outputId": "c8ef6e5f-51d1-455a-fe32-66c4403f8d45"
      },
      "id": "a_A3vxv0NIlb",
      "execution_count": 11,
      "outputs": [
        {
          "output_type": "stream",
          "name": "stdout",
          "text": [
            "1/1 [==============================] - 0s 112ms/step\n"
          ]
        },
        {
          "output_type": "execute_result",
          "data": {
            "text/plain": [
              "array([[0.]], dtype=float32)"
            ]
          },
          "metadata": {},
          "execution_count": 11
        }
      ]
    },
    {
      "cell_type": "markdown",
      "id": "86e3fc70-c6ce-4589-9930-128951290e8d",
      "metadata": {
        "id": "86e3fc70-c6ce-4589-9930-128951290e8d"
      },
      "source": [
        "## Task 4\n",
        "\n",
        "In this task, you will try to predict the number of crime victims as a **class number**. Therefore the machine learning problem is a **classification** problem.\n",
        "\n",
        "* Repeat all the steps in task 3. Specifically, pay attention to the differences with regression.\n",
        "* How would you find the number of classes on the output data?\n",
        "* How is the architecture different?\n",
        "* How is the loss function different?\n",
        "* Calculate the Accuracy for test data as the number of correct classified outputs divided by the total number of test data in each epoch. Report it at the end of each epoch\n",
        "* Try a few variations of learning rate, hidden dimensions, layers, etc. What is the best accuracy that you can get?"
      ]
    },
    {
      "cell_type": "code",
      "execution_count": 12,
      "id": "7d929c52-af34-4081-92cd-3463a3fc4db1",
      "metadata": {
        "id": "7d929c52-af34-4081-92cd-3463a3fc4db1",
        "colab": {
          "base_uri": "https://localhost:8080/"
        },
        "outputId": "d0c3612c-5985-45ae-888d-9a7081935f4f"
      },
      "outputs": [
        {
          "output_type": "stream",
          "name": "stdout",
          "text": [
            "Epoch 1/100\n",
            "9/9 [==============================] - 0s 2ms/step - loss: 0.9578\n",
            "Epoch 2/100\n",
            "9/9 [==============================] - 0s 2ms/step - loss: 0.9549\n",
            "Epoch 3/100\n",
            "9/9 [==============================] - 0s 2ms/step - loss: 0.9543\n",
            "Epoch 4/100\n",
            "9/9 [==============================] - 0s 2ms/step - loss: 0.9541\n",
            "Epoch 5/100\n",
            "9/9 [==============================] - 0s 2ms/step - loss: 0.9541\n",
            "Epoch 6/100\n",
            "9/9 [==============================] - 0s 2ms/step - loss: 0.9541\n",
            "Epoch 7/100\n",
            "9/9 [==============================] - 0s 3ms/step - loss: 0.9540\n",
            "Epoch 8/100\n",
            "9/9 [==============================] - 0s 3ms/step - loss: 0.9540\n",
            "Epoch 9/100\n",
            "9/9 [==============================] - 0s 3ms/step - loss: 0.9540\n",
            "Epoch 10/100\n",
            "9/9 [==============================] - 0s 3ms/step - loss: 0.9540\n",
            "Epoch 11/100\n",
            "9/9 [==============================] - 0s 3ms/step - loss: 0.9540\n",
            "Epoch 12/100\n",
            "9/9 [==============================] - 0s 3ms/step - loss: 0.9540\n",
            "Epoch 13/100\n",
            "9/9 [==============================] - 0s 2ms/step - loss: 0.9540\n",
            "Epoch 14/100\n",
            "9/9 [==============================] - 0s 2ms/step - loss: 0.9540\n",
            "Epoch 15/100\n",
            "9/9 [==============================] - 0s 2ms/step - loss: 0.9541\n",
            "Epoch 16/100\n",
            "9/9 [==============================] - 0s 3ms/step - loss: 0.9540\n",
            "Epoch 17/100\n",
            "9/9 [==============================] - 0s 3ms/step - loss: 0.9539\n",
            "Epoch 18/100\n",
            "9/9 [==============================] - 0s 3ms/step - loss: 0.9540\n",
            "Epoch 19/100\n",
            "9/9 [==============================] - 0s 3ms/step - loss: 0.9540\n",
            "Epoch 20/100\n",
            "9/9 [==============================] - 0s 3ms/step - loss: 0.9540\n",
            "Epoch 21/100\n",
            "9/9 [==============================] - 0s 2ms/step - loss: 0.9540\n",
            "Epoch 22/100\n",
            "9/9 [==============================] - 0s 2ms/step - loss: 0.9539\n",
            "Epoch 23/100\n",
            "9/9 [==============================] - 0s 3ms/step - loss: 0.9540\n",
            "Epoch 24/100\n",
            "9/9 [==============================] - 0s 3ms/step - loss: 0.9540\n",
            "Epoch 25/100\n",
            "9/9 [==============================] - 0s 2ms/step - loss: 0.9539\n",
            "Epoch 26/100\n",
            "9/9 [==============================] - 0s 2ms/step - loss: 0.9539\n",
            "Epoch 27/100\n",
            "9/9 [==============================] - 0s 2ms/step - loss: 0.9539\n",
            "Epoch 28/100\n",
            "9/9 [==============================] - 0s 3ms/step - loss: 0.9539\n",
            "Epoch 29/100\n",
            "9/9 [==============================] - 0s 2ms/step - loss: 0.9539\n",
            "Epoch 30/100\n",
            "9/9 [==============================] - 0s 2ms/step - loss: 0.9539\n",
            "Epoch 31/100\n",
            "9/9 [==============================] - 0s 2ms/step - loss: 0.9540\n",
            "Epoch 32/100\n",
            "9/9 [==============================] - 0s 3ms/step - loss: 0.9539\n",
            "Epoch 33/100\n",
            "9/9 [==============================] - 0s 3ms/step - loss: 0.9539\n",
            "Epoch 34/100\n",
            "9/9 [==============================] - 0s 2ms/step - loss: 0.9539\n",
            "Epoch 35/100\n",
            "9/9 [==============================] - 0s 2ms/step - loss: 0.9539\n",
            "Epoch 36/100\n",
            "9/9 [==============================] - 0s 3ms/step - loss: 0.9539\n",
            "Epoch 37/100\n",
            "9/9 [==============================] - 0s 2ms/step - loss: 0.9539\n",
            "Epoch 38/100\n",
            "9/9 [==============================] - 0s 3ms/step - loss: 0.9540\n",
            "Epoch 39/100\n",
            "9/9 [==============================] - 0s 3ms/step - loss: 0.9539\n",
            "Epoch 40/100\n",
            "9/9 [==============================] - 0s 3ms/step - loss: 0.9540\n",
            "Epoch 41/100\n",
            "9/9 [==============================] - 0s 2ms/step - loss: 0.9539\n",
            "Epoch 42/100\n",
            "9/9 [==============================] - 0s 3ms/step - loss: 0.9539\n",
            "Epoch 43/100\n",
            "9/9 [==============================] - 0s 2ms/step - loss: 0.9539\n",
            "Epoch 44/100\n",
            "9/9 [==============================] - 0s 2ms/step - loss: 0.9540\n",
            "Epoch 45/100\n",
            "9/9 [==============================] - 0s 2ms/step - loss: 0.9539\n",
            "Epoch 46/100\n",
            "9/9 [==============================] - 0s 2ms/step - loss: 0.9539\n",
            "Epoch 47/100\n",
            "9/9 [==============================] - 0s 2ms/step - loss: 0.9539\n",
            "Epoch 48/100\n",
            "9/9 [==============================] - 0s 3ms/step - loss: 0.9540\n",
            "Epoch 49/100\n",
            "9/9 [==============================] - 0s 2ms/step - loss: 0.9539\n",
            "Epoch 50/100\n",
            "9/9 [==============================] - 0s 2ms/step - loss: 0.9539\n",
            "Epoch 51/100\n",
            "9/9 [==============================] - 0s 3ms/step - loss: 0.9539\n",
            "Epoch 52/100\n",
            "9/9 [==============================] - 0s 2ms/step - loss: 0.9539\n",
            "Epoch 53/100\n",
            "9/9 [==============================] - 0s 3ms/step - loss: 0.9539\n",
            "Epoch 54/100\n",
            "9/9 [==============================] - 0s 3ms/step - loss: 0.9539\n",
            "Epoch 55/100\n",
            "9/9 [==============================] - 0s 2ms/step - loss: 0.9539\n",
            "Epoch 56/100\n",
            "9/9 [==============================] - 0s 2ms/step - loss: 0.9540\n",
            "Epoch 57/100\n",
            "9/9 [==============================] - 0s 2ms/step - loss: 0.9539\n",
            "Epoch 58/100\n",
            "9/9 [==============================] - 0s 3ms/step - loss: 0.9539\n",
            "Epoch 59/100\n",
            "9/9 [==============================] - 0s 3ms/step - loss: 0.9539\n",
            "Epoch 60/100\n",
            "9/9 [==============================] - 0s 3ms/step - loss: 0.9539\n",
            "Epoch 61/100\n",
            "9/9 [==============================] - 0s 2ms/step - loss: 0.9539\n",
            "Epoch 62/100\n",
            "9/9 [==============================] - 0s 2ms/step - loss: 0.9539\n",
            "Epoch 63/100\n",
            "9/9 [==============================] - 0s 3ms/step - loss: 0.9539\n",
            "Epoch 64/100\n",
            "9/9 [==============================] - 0s 2ms/step - loss: 0.9539\n",
            "Epoch 65/100\n",
            "9/9 [==============================] - 0s 2ms/step - loss: 0.9540\n",
            "Epoch 66/100\n",
            "9/9 [==============================] - 0s 3ms/step - loss: 0.9539\n",
            "Epoch 67/100\n",
            "9/9 [==============================] - 0s 2ms/step - loss: 0.9539\n",
            "Epoch 68/100\n",
            "9/9 [==============================] - 0s 3ms/step - loss: 0.9539\n",
            "Epoch 69/100\n",
            "9/9 [==============================] - 0s 2ms/step - loss: 0.9539\n",
            "Epoch 70/100\n",
            "9/9 [==============================] - 0s 2ms/step - loss: 0.9539\n",
            "Epoch 71/100\n",
            "9/9 [==============================] - 0s 2ms/step - loss: 0.9539\n",
            "Epoch 72/100\n",
            "9/9 [==============================] - 0s 2ms/step - loss: 0.9539\n",
            "Epoch 73/100\n",
            "9/9 [==============================] - 0s 3ms/step - loss: 0.9539\n",
            "Epoch 74/100\n",
            "9/9 [==============================] - 0s 2ms/step - loss: 0.9540\n",
            "Epoch 75/100\n",
            "9/9 [==============================] - 0s 3ms/step - loss: 0.9540\n",
            "Epoch 76/100\n",
            "9/9 [==============================] - 0s 2ms/step - loss: 0.9539\n",
            "Epoch 77/100\n",
            "9/9 [==============================] - 0s 3ms/step - loss: 0.9539\n",
            "Epoch 78/100\n",
            "9/9 [==============================] - 0s 2ms/step - loss: 0.9539\n",
            "Epoch 79/100\n",
            "9/9 [==============================] - 0s 2ms/step - loss: 0.9539\n",
            "Epoch 80/100\n",
            "9/9 [==============================] - 0s 3ms/step - loss: 0.9539\n",
            "Epoch 81/100\n",
            "9/9 [==============================] - 0s 3ms/step - loss: 0.9539\n",
            "Epoch 82/100\n",
            "9/9 [==============================] - 0s 3ms/step - loss: 0.9539\n",
            "Epoch 83/100\n",
            "9/9 [==============================] - 0s 3ms/step - loss: 0.9540\n",
            "Epoch 84/100\n",
            "9/9 [==============================] - 0s 3ms/step - loss: 0.9539\n",
            "Epoch 85/100\n",
            "9/9 [==============================] - 0s 4ms/step - loss: 0.9539\n",
            "Epoch 86/100\n",
            "9/9 [==============================] - 0s 2ms/step - loss: 0.9539\n",
            "Epoch 87/100\n",
            "9/9 [==============================] - 0s 2ms/step - loss: 0.9539\n",
            "Epoch 88/100\n",
            "9/9 [==============================] - 0s 2ms/step - loss: 0.9540\n",
            "Epoch 89/100\n",
            "9/9 [==============================] - 0s 2ms/step - loss: 0.9539\n",
            "Epoch 90/100\n",
            "9/9 [==============================] - 0s 3ms/step - loss: 0.9539\n",
            "Epoch 91/100\n",
            "9/9 [==============================] - 0s 3ms/step - loss: 0.9539\n",
            "Epoch 92/100\n",
            "9/9 [==============================] - 0s 2ms/step - loss: 0.9540\n",
            "Epoch 93/100\n",
            "9/9 [==============================] - 0s 2ms/step - loss: 0.9539\n",
            "Epoch 94/100\n",
            "9/9 [==============================] - 0s 3ms/step - loss: 0.9539\n",
            "Epoch 95/100\n",
            "9/9 [==============================] - 0s 3ms/step - loss: 0.9539\n",
            "Epoch 96/100\n",
            "9/9 [==============================] - 0s 2ms/step - loss: 0.9540\n",
            "Epoch 97/100\n",
            "9/9 [==============================] - 0s 3ms/step - loss: 0.9539\n",
            "Epoch 98/100\n",
            "9/9 [==============================] - 0s 3ms/step - loss: 0.9539\n",
            "Epoch 99/100\n",
            "9/9 [==============================] - 0s 3ms/step - loss: 0.9539\n",
            "Epoch 100/100\n",
            "9/9 [==============================] - 0s 2ms/step - loss: 0.9539\n"
          ]
        },
        {
          "output_type": "execute_result",
          "data": {
            "text/plain": [
              "<keras.src.callbacks.History at 0x7c288b4e9840>"
            ]
          },
          "metadata": {},
          "execution_count": 12
        }
      ],
      "source": [
        "layer_1 = Dense(units=6, activation='sigmoid')\n",
        "a1 = layer_1(my_x)\n",
        "\n",
        "layer_2 = Dense(units=1, activation='sigmoid')\n",
        "a2 = layer_2(a1)\n",
        "\n",
        "model = Sequential([layer_1, layer_2])\n",
        "\n",
        "model.compile(optimizer='sgd',\n",
        "              loss = 'mean_squared_error')\n",
        "\n",
        "model.fit(my_x, my_y, epochs=100)\n"
      ]
    },
    {
      "cell_type": "code",
      "source": [
        "y_mse = model.predict([[-115.303952, 36.019455, 3, 1, 2, 1]])\n",
        "y_mse"
      ],
      "metadata": {
        "colab": {
          "base_uri": "https://localhost:8080/"
        },
        "id": "kW15DdT5o3Mz",
        "outputId": "d10123ad-49d7-482a-c159-68ac3e2d6566"
      },
      "id": "kW15DdT5o3Mz",
      "execution_count": 13,
      "outputs": [
        {
          "output_type": "stream",
          "name": "stdout",
          "text": [
            "1/1 [==============================] - 0s 114ms/step\n"
          ]
        },
        {
          "output_type": "execute_result",
          "data": {
            "text/plain": [
              "array([[0.71232617]], dtype=float32)"
            ]
          },
          "metadata": {},
          "execution_count": 13
        }
      ]
    },
    {
      "cell_type": "markdown",
      "id": "84d2a304-6197-4cd9-b31e-745f7862f213",
      "metadata": {
        "id": "84d2a304-6197-4cd9-b31e-745f7862f213"
      },
      "source": [
        "## Task 5"
      ]
    },
    {
      "cell_type": "markdown",
      "id": "d6e4ef16-d828-45e5-bd58-1c49fcfecf52",
      "metadata": {
        "id": "d6e4ef16-d828-45e5-bd58-1c49fcfecf52"
      },
      "source": [
        "### Reflect on your results\n",
        "\n",
        "* Write a paragraph about your experience with tasks 3 and 4. How do you compare the results? Which one worked better? Why?\n",
        "* Write a piece of code that finds an example of a  miss-classification. Calculate the probabilities for the output classes and plot them in a bar chart. Also, indicate what is the correct class label."
      ]
    },
    {
      "cell_type": "markdown",
      "id": "5b000b0b-fa37-4f8d-8ec7-0a1e6e749424",
      "metadata": {
        "id": "5b000b0b-fa37-4f8d-8ec7-0a1e6e749424"
      },
      "source": [
        "## Task 6: Exploring the patterns in raw data\n",
        "\n",
        "* Plot the crime incidents as a `scatter` plot using the corrdinates. Use the color property of each datapoint to indicate the day of the week. Is there a pattern in the plot?\n",
        "* Now make a new scatter plot and use the color property of each datapoint to indicate the number of persons involved in the incident. Is there a pattern here?\n",
        "* use numpy (or pandas if you like) to sort the number of crimes reported by the day of the week. What days are most frequent?\n"
      ]
    },
    {
      "cell_type": "code",
      "execution_count": 12,
      "id": "5b396aaf-5d1a-49cd-ae1d-b63af7e561f5",
      "metadata": {
        "id": "5b396aaf-5d1a-49cd-ae1d-b63af7e561f5"
      },
      "outputs": [],
      "source": []
    }
  ],
  "metadata": {
    "kernelspec": {
      "display_name": "Python 3 (ipykernel)",
      "language": "python",
      "name": "python3"
    },
    "language_info": {
      "codemirror_mode": {
        "name": "ipython",
        "version": 3
      },
      "file_extension": ".py",
      "mimetype": "text/x-python",
      "name": "python",
      "nbconvert_exporter": "python",
      "pygments_lexer": "ipython3",
      "version": "3.11.5"
    },
    "colab": {
      "provenance": [],
      "include_colab_link": true
    }
  },
  "nbformat": 4,
  "nbformat_minor": 5
}